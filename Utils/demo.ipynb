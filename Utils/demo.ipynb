{
 "cells": [
  {
   "cell_type": "code",
   "execution_count": 1,
   "metadata": {},
   "outputs": [],
   "source": [
    "import numpy as np\n",
    "import torch\n",
    "import torch.nn as nn"
   ]
  },
  {
   "cell_type": "code",
   "execution_count": 32,
   "metadata": {},
   "outputs": [],
   "source": [
    "def lacunarity_global(x, kernel_size = [3,3], eps = 10e-6):\n",
    "    '''\n",
    "    Lacunarity definition from Fast Unsupervised Seafloor Characterization\n",
    "    in Sonar Imagery Using Lacunarity\n",
    "    '''\n",
    "    mean = np.mean(x)\n",
    "    std = np.std(x)\n",
    "    \n",
    "    # #Lacunarity is the ratio between variance and squared mean\n",
    "    L = ((std**2) / ((mean ** 2) + eps)) -1\n",
    "    \n",
    "    #Revisist Pytorch implementation\n",
    "    # #Convert input to tensor\n",
    "    x_tensor = torch.tensor(x).unsqueeze(0).unsqueeze(0).float()\n",
    "    squared_x_tensor = x_tensor ** 2\n",
    "    n_pts = np.prod(np.asarray(x_tensor.shape))\n",
    "    #Define sum pooling \n",
    "    gap_layer = nn.AdaptiveAvgPool2d(1)(x_tensor)\n",
    "    \n",
    "    #Compute numerator (n * sum of squared pixels) and denominator (squared sum of pixels)\n",
    "    L_numerator = ((n_pts)**2) * (nn.AdaptiveAvgPool2d(1)(squared_x_tensor))\n",
    "    L_denominator = (n_pts * gap_layer)**2\n",
    "\n",
    "    #Lacunarity is L_numerator / L_denominator - 1\n",
    "    L_torch = (L_numerator / L_denominator) - 1\n",
    "    \n",
    "    # Convert back to numpy array\n",
    "    L_torch = L_torch.squeeze(0).squeeze(0)\n",
    "    L_numpy = L_torch.detach().cpu().numpy()\n",
    "\n",
    "    return L_numpy"
   ]
  },
  {
   "cell_type": "code",
   "execution_count": 33,
   "metadata": {},
   "outputs": [
    {
     "data": {
      "text/plain": [
       "array([0.4221983], dtype=float32)"
      ]
     },
     "execution_count": 33,
     "metadata": {},
     "output_type": "execute_result"
    }
   ],
   "source": [
    "lacunarity_global([8, 3, 25, 25])"
   ]
  }
 ],
 "metadata": {
  "kernelspec": {
   "display_name": "base",
   "language": "python",
   "name": "python3"
  },
  "language_info": {
   "codemirror_mode": {
    "name": "ipython",
    "version": 3
   },
   "file_extension": ".py",
   "mimetype": "text/x-python",
   "name": "python",
   "nbconvert_exporter": "python",
   "pygments_lexer": "ipython3",
   "version": "3.9.16"
  },
  "orig_nbformat": 4
 },
 "nbformat": 4,
 "nbformat_minor": 2
}
